{
 "cells": [
  {
   "cell_type": "code",
   "execution_count": 3,
   "metadata": {},
   "outputs": [
    {
     "name": "stdout",
     "output_type": "stream",
     "text": [
      "0 网络爬虫     url:  /item/%E7%BD%91%E7%BB%9C%E7%88%AC%E8%99%AB/5162711\n",
      "1 搜索算法     url:  /item/%E6%90%9C%E7%B4%A2%E7%AE%97%E6%B3%95\n",
      "2 宽度优先搜索     url:  /item/%E5%B9%BF%E5%BA%A6%E4%BC%98%E5%85%88%E6%90%9C%E7%B4%A2\n",
      "3 时间复杂性     url:  /item/%E6%97%B6%E9%97%B4%E5%A4%8D%E6%9D%82%E5%BA%A6\n",
      "4 函数     url:  /item/%E5%87%BD%E6%95%B0\n",
      "5 贝努利     url:  /item/%E8%B4%9D%E5%8A%AA%E5%88%A9\n",
      "6 函数     url:  /item/%E5%87%BD%E6%95%B0\n",
      "7 概率论     url:  /item/%E6%A6%82%E7%8E%87%E8%AE%BA\n",
      "8 百度百科：多义词     url:  /item/%E7%99%BE%E5%BA%A6%E7%99%BE%E7%A7%91%EF%BC%9A%E5%A4%9A%E4%B9%89%E8%AF%8D\n",
      "9 概率论     url:  /item/%E6%A6%82%E7%8E%87%E8%AE%BA\n",
      "10 测度论     url:  /item/%E6%B5%8B%E5%BA%A6%E8%AE%BA\n",
      "11 无理数     url:  /item/%E6%97%A0%E7%90%86%E6%95%B0\n",
      "12 欧几里得     url:  /item/%E6%AC%A7%E5%87%A0%E9%87%8C%E5%BE%97\n",
      "13 雅典     url:  /item/%E9%9B%85%E5%85%B8\n",
      "14 希腊独立战争     url:  /item/%E5%B8%8C%E8%85%8A%E7%8B%AC%E7%AB%8B%E6%88%98%E4%BA%89\n",
      "15 亚得里亚堡条约     url:  /item/%E4%BA%9A%E5%BE%97%E9%87%8C%E4%BA%9A%E5%A0%A1%E6%9D%A1%E7%BA%A6\n",
      "16 希腊     url:  /item/%E5%B8%8C%E8%85%8A\n",
      "17 亚得里亚堡条约     url:  /item/%E4%BA%9A%E5%BE%97%E9%87%8C%E4%BA%9A%E5%A0%A1%E6%9D%A1%E7%BA%A6\n",
      "18 俄土战争     url:  /item/%E4%BF%84%E5%9C%9F%E6%88%98%E4%BA%89\n",
      "19 沙皇     url:  /item/%E4%BF%84%E7%BD%97%E6%96%AF%E6%B2%99%E7%9A%87\n"
     ]
    }
   ],
   "source": [
    "from bs4 import BeautifulSoup\n",
    "from urllib.request import urlopen\n",
    "import requests\n",
    "import re\n",
    "import random\n",
    "\n",
    "\n",
    "base_url = \"https://baike.baidu.com\"\n",
    "his = [\"/item/%E7%BD%91%E7%BB%9C%E7%88%AC%E8%99%AB/5162711\"]\n",
    "\n",
    "\n",
    "for i in range(20):\n",
    "    url = base_url + his[-1]\n",
    "\n",
    "    html = urlopen(url).read().decode('utf-8')\n",
    "    soup = BeautifulSoup(html, features='lxml')\n",
    "    print(i, soup.find('h1').get_text(), '    url: ', his[-1])\n",
    "\n",
    "    # find valid urls\n",
    "    sub_urls = soup.find_all(\"a\", {\"target\": \"_blank\", \"href\": re.compile(\"^/item/(%.{2})+$\")})\n",
    "\n",
    "    if len(sub_urls) != 0:\n",
    "        his.append(random.sample(sub_urls, 1)[0]['href'])\n",
    "    else:\n",
    "        # no valid sub link found\n",
    "        his.pop()"
   ]
  },
  {
   "cell_type": "code",
   "execution_count": 5,
   "metadata": {},
   "outputs": [],
   "source": [
    "import os\n",
    "os.makedirs('./img/', exist_ok=True)"
   ]
  },
  {
   "cell_type": "code",
   "execution_count": 10,
   "metadata": {
    "scrolled": true
   },
   "outputs": [
    {
     "name": "stdout",
     "output_type": "stream",
     "text": [
      "<img src=\"http://image.ngchina.com.cn/2020/0731/20200731020152348.jpg\"/>\n",
      "Saved 20200731020152348.jpg\n",
      "<img src=\"http://image.ngchina.com.cn/2020/0730/20200730013711106.jpg\"/>\n",
      "Saved 20200730013711106.jpg\n",
      "<img src=\"http://image.ngchina.com.cn/2020/0730/20200730105606336.jpg\"/>\n",
      "Saved 20200730105606336.jpg\n",
      "<img src=\"http://image.ngchina.com.cn/2020/0729/20200729014440449.jpg\"/>\n",
      "Saved 20200729014440449.jpg\n",
      "<img src=\"http://image.ngchina.com.cn/2020/0728/20200728011531605.jpg\"/>\n",
      "Saved 20200728011531605.jpg\n",
      "<img src=\"http://image.ngchina.com.cn/2020/0728/20200728103624727.jpg\"/>\n",
      "Saved 20200728103624727.jpg\n"
     ]
    },
    {
     "data": {
      "text/plain": [
       "'\\nSaved 20171227102206573.jpg\\n...\\nSaved 20171214020322682.jpg\\n'"
      ]
     },
     "execution_count": 10,
     "metadata": {},
     "output_type": "execute_result"
    }
   ],
   "source": [
    "URL = \"http://www.nationalgeographic.com.cn/animals/\"\n",
    "html = requests.get(URL).text\n",
    "soup = BeautifulSoup(html, 'lxml')\n",
    "img_ul = soup.find_all('ul', {\"class\": \"img_list\"})\n",
    "for ul in img_ul:\n",
    "    imgs = ul.find_all('img')\n",
    "    for img in imgs:\n",
    "        print(img)\n",
    "        url = img['src']\n",
    "        r = requests.get(url, stream=True)\n",
    "        image_name = url.split('/')[-1]\n",
    "        with open('./img/%s' % image_name, 'wb') as f:\n",
    "            for chunk in r.iter_content(chunk_size=128):\n",
    "                f.write(chunk)\n",
    "        print('Saved %s' % image_name)\n",
    "\n",
    "\"\"\"\n",
    "Saved 20171227102206573.jpg\n",
    "...\n",
    "Saved 20171214020322682.jpg\n",
    "\"\"\""
   ]
  },
  {
   "cell_type": "code",
   "execution_count": 28,
   "metadata": {
    "scrolled": false
   },
   "outputs": [
    {
     "name": "stdout",
     "output_type": "stream",
     "text": [
      "http://image.ngchina.com.cn/2020/0724/20200724123618531.jpg\n",
      "Saved 20200724123618531.jpg\n",
      "http://image.ngchina.com.cn/2020/0710/thumb_469_352_20200710013947724.jpg\n",
      "Saved thumb_469_352_20200710013947724.jpg\n",
      "http://image.ngchina.com.cn/2020/0707/thumb_469_352_20200707034649309.jpg\n",
      "Saved thumb_469_352_20200707034649309.jpg\n",
      "http://image.ngchina.com.cn/2020/0628/thumb_469_352_20200628015309868.jpg\n",
      "Saved thumb_469_352_20200628015309868.jpg\n",
      "http://image.ngchina.com.cn/2020/0627/thumb_469_352_20200627095444796.jpg\n",
      "Saved thumb_469_352_20200627095444796.jpg\n",
      "http://image.ngchina.com.cn/2017/1024/20171024023609391.jpg\n",
      "Saved 20171024023609391.jpg\n",
      "http://image.ngchina.com.cn/2018/0824/thumb_469_352_20180824054325356.jpg\n",
      "Saved thumb_469_352_20180824054325356.jpg\n",
      "http://image.ngchina.com.cn/2018/0823/thumb_469_352_20180823054126855.jpg\n",
      "Saved thumb_469_352_20180823054126855.jpg\n",
      "http://image.ngchina.com.cn/2018/0717/thumb_469_352_20180717055303642.jpg\n",
      "Saved thumb_469_352_20180717055303642.jpg\n",
      "http://image.ngchina.com.cn/2018/0716/thumb_469_352_20180716055214274.jpg\n",
      "Saved thumb_469_352_20180716055214274.jpg\n",
      "http://image.ngchina.com.cn/2020/0731/20200731020152348.jpg\n",
      "Saved 20200731020152348.jpg\n",
      "http://image.ngchina.com.cn/2020/0730/thumb_469_352_20200730105606336.jpg\n",
      "Saved thumb_469_352_20200730105606336.jpg\n",
      "http://image.ngchina.com.cn/2020/0729/thumb_469_352_20200729014440449.jpg\n",
      "Saved thumb_469_352_20200729014440449.jpg\n",
      "http://image.ngchina.com.cn/2020/0723/thumb_469_352_20200723022256478.jpg\n",
      "Saved thumb_469_352_20200723022256478.jpg\n",
      "http://image.ngchina.com.cn/2020/0722/thumb_469_352_20200722104747673.jpg\n",
      "Saved thumb_469_352_20200722104747673.jpg\n",
      "http://image.ngchina.com.cn/2020/0803/20200803021027736.jpg\n",
      "Saved 20200803021027736.jpg\n",
      "http://image.ngchina.com.cn/2020/0727/thumb_469_352_20200727105916139.jpg\n",
      "Saved thumb_469_352_20200727105916139.jpg\n",
      "http://image.ngchina.com.cn/2020/0723/thumb_469_352_20200723114213460.jpg\n",
      "Saved thumb_469_352_20200723114213460.jpg\n",
      "http://image.ngchina.com.cn/2020/0710/thumb_469_352_20200710042454235.jpg\n",
      "Saved thumb_469_352_20200710042454235.jpg\n",
      "http://image.ngchina.com.cn/2020/0709/thumb_469_352_20200709102547885.jpg\n",
      "Saved thumb_469_352_20200709102547885.jpg\n",
      "http://image.ngchina.com.cn/2020/0716/20200716011201193.jpg\n",
      "Saved 20200716011201193.jpg\n",
      "http://image.ngchina.com.cn/2020/0224/thumb_469_352_20200224022804358.jpg\n",
      "Saved thumb_469_352_20200224022804358.jpg\n",
      "http://image.ngchina.com.cn/2020/0218/thumb_469_352_20200218061446407.jpg\n",
      "Saved thumb_469_352_20200218061446407.jpg\n",
      "http://image.ngchina.com.cn/2020/0110/thumb_469_352_20200110101443871.jpg\n",
      "Saved thumb_469_352_20200110101443871.jpg\n",
      "http://image.ngchina.com.cn/2020/0108/thumb_469_352_20200108100432769.jpg\n",
      "Saved thumb_469_352_20200108100432769.jpg\n",
      "http://image.ngchina.com.cn/2020/0727/20200727041519116.jpg\n",
      "Saved 20200727041519116.jpg\n",
      "http://image.ngchina.com.cn/2020/0714/thumb_469_352_20200714060317141.jpg\n",
      "Saved thumb_469_352_20200714060317141.jpg\n",
      "http://image.ngchina.com.cn/2020/0708/thumb_469_352_20200708104849391.jpg\n",
      "Saved thumb_469_352_20200708104849391.jpg\n",
      "http://image.ngchina.com.cn/2020/0629/thumb_469_352_20200629105102483.jpg\n",
      "Saved thumb_469_352_20200629105102483.jpg\n",
      "http://image.ngchina.com.cn/2020/0601/thumb_469_352_20200601110232790.jpg\n",
      "Saved thumb_469_352_20200601110232790.jpg\n",
      "http://image.ngchina.com.cn/2020/0803/20200803102135904.jpg\n",
      "Saved 20200803102135904.jpg\n",
      "http://image.ngchina.com.cn/2020/0729/thumb_469_352_20200729035901254.jpg\n",
      "Saved thumb_469_352_20200729035901254.jpg\n",
      "http://image.ngchina.com.cn/2020/0717/thumb_469_352_20200717043251658.jpg\n",
      "Saved thumb_469_352_20200717043251658.jpg\n",
      "http://image.ngchina.com.cn/2020/0709/thumb_469_352_20200709013006154.jpg\n",
      "Saved thumb_469_352_20200709013006154.jpg\n",
      "http://image.ngchina.com.cn/2020/0630/thumb_469_352_20200630012337154.jpg\n",
      "Saved thumb_469_352_20200630012337154.jpg\n",
      "http://image.ngchina.com.cn/2017/1127/20171127110451260.jpg\n",
      "Saved 20171127110451260.jpg\n",
      "http://image.ngchina.com.cn/2017/1127/20171127110544594.jpg\n",
      "Saved 20171127110544594.jpg\n",
      "http://image.ngchina.com.cn/2017/1127/20171127110817403.jpg\n",
      "Saved 20171127110817403.jpg\n",
      "http://image.ngchina.com.cn/2020/0731/20200731020152348.jpg\n",
      "Saved 20200731020152348.jpg\n",
      "http://image.ngchina.com.cn/2020/0730/20200730013711106.jpg\n",
      "Saved 20200730013711106.jpg\n",
      "http://image.ngchina.com.cn/2020/0730/20200730105606336.jpg\n",
      "Saved 20200730105606336.jpg\n",
      "http://image.ngchina.com.cn/2020/0729/20200729014440449.jpg\n",
      "Saved 20200729014440449.jpg\n",
      "http://image.ngchina.com.cn/2020/0728/20200728011531605.jpg\n",
      "Saved 20200728011531605.jpg\n",
      "http://image.ngchina.com.cn/2020/0728/20200728103624727.jpg\n",
      "Saved 20200728103624727.jpg\n",
      "http://image.nationalgeographic.com.cn/2017/1226/20171226103805612.jpg\n",
      "Saved 20171226103805612.jpg\n",
      "http://image.nationalgeographic.com.cn/2017/1226/20171226103837318.jpg\n",
      "Saved 20171226103837318.jpg\n",
      "http://image.nationalgeographic.com.cn/2017/1226/20171226103918641.jpg\n",
      "Saved 20171226103918641.jpg\n",
      "http://image.nationalgeographic.com.cn/2017/1226/20171226103953890.jpg\n",
      "Saved 20171226103953890.jpg\n",
      "http://image.nationalgeographic.com.cn/2017/1226/20171226104030410.jpg\n",
      "Saved 20171226104030410.jpg\n",
      "http://image.ngchina.com.cn/2017/1127/20171127111001137.jpg\n",
      "Saved 20171127111001137.jpg\n"
     ]
    }
   ],
   "source": [
    "URL = \"http://www.nationalgeographic.com.cn/animals/\"\n",
    "html = requests.get(URL).text\n",
    "soup = BeautifulSoup(html, 'lxml')\n",
    "img_ul = soup.find_all('img')\n",
    "for img in img_ul:\n",
    "    url = img['src']\n",
    "    if \"http://\" not in url:\n",
    "        continue   \n",
    "    print(url)\n",
    "    r = requests.get(url, stream=True)\n",
    "    image_name = url.split('/')[-1]\n",
    "    with open('./img/%s' % image_name, 'wb') as f:\n",
    "        for chunk in r.iter_content(chunk_size=128):\n",
    "            f.write(chunk)\n",
    "    print('Saved %s' % image_name)"
   ]
  },
  {
   "cell_type": "code",
   "execution_count": null,
   "metadata": {},
   "outputs": [],
   "source": []
  }
 ],
 "metadata": {
  "kernelspec": {
   "display_name": "Python 3",
   "language": "python",
   "name": "python3"
  },
  "language_info": {
   "codemirror_mode": {
    "name": "ipython",
    "version": 3
   },
   "file_extension": ".py",
   "mimetype": "text/x-python",
   "name": "python",
   "nbconvert_exporter": "python",
   "pygments_lexer": "ipython3",
   "version": "3.7.4"
  }
 },
 "nbformat": 4,
 "nbformat_minor": 2
}
