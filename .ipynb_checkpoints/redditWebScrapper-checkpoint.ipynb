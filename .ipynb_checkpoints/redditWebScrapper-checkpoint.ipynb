{
 "cells": [
  {
   "cell_type": "code",
   "execution_count": 1,
   "metadata": {},
   "outputs": [],
   "source": [
    "import requests\n",
    "import csv\n",
    "import time\n",
    "from bs4 import BeautifulSoup"
   ]
  },
  {
   "cell_type": "code",
   "execution_count": 15,
   "metadata": {},
   "outputs": [],
   "source": [
    "url = \"https://old.reddit.com/r/leagueoflegends/search?q=lpl&restrict_sr=on&include_over_18=on\"\n",
    "# Headers to mimic a browser visit\n",
    "headers = {'User-Agent': 'Mozilla/5.0'}\n",
    "\n",
    "# Returns a requests.models.Response object\n",
    "page = requests.get(url, headers=headers)"
   ]
  },
  {
   "cell_type": "code",
   "execution_count": 16,
   "metadata": {},
   "outputs": [],
   "source": [
    "soup = BeautifulSoup(page.text, 'html.parser')"
   ]
  },
  {
   "cell_type": "code",
   "execution_count": 25,
   "metadata": {},
   "outputs": [
    {
     "data": {
      "text/plain": [
       "[<a class=\"search-title may-blank\" href=\"https://old.reddit.com/r/leagueoflegends/comments/hy6g92/top_esports_vs_invictus_gaming_lpl_2020_summer/\">Top eSports vs Invictus Gaming / LPL 2020 Summer - Week 8 / Postmatch Discussion</a>,\n",
       " <a class=\"search-title may-blank\" href=\"https://old.reddit.com/r/leagueoflegends/comments/hwdaga/deft_the_one_only_player_that_accumulated_1000/\">DEFT - The One &amp; Only player that accumulated 1000 kills in both LCK &amp; LPL, has yet again broken another record and hit 1500 kills in LCK!</a>,\n",
       " <a class=\"search-title may-blank\" href=\"https://old.reddit.com/r/leagueoflegends/comments/hm6k77/varus_is_banned_in_150_out_of_151_games_in_lpl/\">Varus is banned in 150 out of 151 games in LPL summer split 2020</a>,\n",
       " <a class=\"search-title may-blank\" href=\"https://old.reddit.com/r/leagueoflegends/comments/hukydf/victory_five_vs_invictus_gaming_lpl_2020_summer/\">Victory Five vs. Invictus Gaming / LPL 2020 Summer - Week 8 / Post-Match Discussion</a>,\n",
       " <a class=\"search-title may-blank\" href=\"https://old.reddit.com/r/leagueoflegends/comments/hqdk7u/top_esports_vs_victory_five_lpl_2020_summer_week/\">Top Esports vs. Victory Five / LPL 2020 Summer - Week 7 / Post-Match Discussion</a>,\n",
       " <a class=\"search-title may-blank\" href=\"https://old.reddit.com/r/leagueoflegends/comments/hstlgy/rogue_warriors_vs_funplus_phoenix_lpl_2020_summer/\">Rogue Warriors vs. FunPlus Phoenix / LPL 2020 Summer - Week 7 / Post-Match Discussion</a>,\n",
       " <a class=\"search-title may-blank\" href=\"https://old.reddit.com/r/leagueoflegends/comments/gsq6nd/canna_received_a_wave_of_backlash_for_hovering/\">Canna received a wave of backlash for hovering Twitch, the plague rat. LPL fans think he’s being disrespectful towards covid-19.</a>,\n",
       " <a class=\"search-title may-blank\" href=\"https://old.reddit.com/r/leagueoflegends/comments/htyqzq/vici_gaming_vs_top_esports_lpl_2020_summer_week_7/\">Vici Gaming vs. Top Esports / LPL 2020 Summer - Week 7 / Post-Match Discussion</a>,\n",
       " <a class=\"search-title may-blank\" href=\"https://old.reddit.com/r/leagueoflegends/comments/hy6m2h/rookie_insane_orianna_play_lpl_tes_vs_ig/\">Rookie Insane Orianna Play LPL TES vs IG</a>,\n",
       " <a class=\"search-title may-blank\" href=\"https://old.reddit.com/r/leagueoflegends/comments/hul45k/lpl_english_cast_is_great/\">LPL English cast is great</a>,\n",
       " <a class=\"search-title may-blank\" href=\"https://old.reddit.com/r/leagueoflegends/comments/hu00mz/jd_gaming_vs_funplus_phoenix_lpl_2020_summer_week/\">JD Gaming vs. FunPlus Phoenix / LPL 2020 Summer - Week 7 / Post-Match Discussion</a>,\n",
       " <a class=\"search-title may-blank\" href=\"https://old.reddit.com/r/leagueoflegends/comments/hpa82m/top_esports_vs_funplus_phoenix_lpl_2020_summer/\">TOP eSports vs Funplus Phoenix / LPL 2020 Summer - Week 6 / Postmatch Discussion</a>,\n",
       " <a class=\"search-title may-blank\" href=\"https://old.reddit.com/r/leagueoflegends/comments/hflwvn/funplus_phoenix_vs_invictus_gaming_lpl_2020/\">FunPlus Phoenix vs. Invictus Gaming / LPL 2020 Summer - Week 4 / Post-Match Discussion</a>,\n",
       " <a class=\"search-title may-blank\" href=\"https://old.reddit.com/r/leagueoflegends/comments/hdx5dx/jankos_on_the_leclpllck_jungle_meta_what_changed/\">Jankos on the LEC/LPL/LCK jungle meta, what changed between Week 1 and Week 2 of the LEC for G2 Esports to come back on track, thoughts on worlds: \"I think Europe, Korea, and China can win worlds. I won't include NA, I'm sorry.\" Grammar ok?</a>,\n",
       " <a class=\"search-title may-blank\" href=\"https://old.reddit.com/r/leagueoflegends/comments/i00qsb/funplus_phoenix_vs_lgd_gaming_lpl_2020_summer/\">FunPlus Phoenix vs. LGD Gaming / LPL 2020 Summer - Week 9 / Post-Match Discussion</a>,\n",
       " <a class=\"search-title may-blank\" href=\"https://old.reddit.com/r/leagueoflegends/comments/i0jza5/suning_vs_top_esports_lpl_2020_summer_week_9/\">Suning vs. Top Esports / LPL 2020 Summer - Week 9 / Post-Match Discussion</a>,\n",
       " <a class=\"search-title may-blank\" href=\"https://old.reddit.com/r/leagueoflegends/comments/hxnft4/edward_gaming_vs_funplus_phoenix_lpl_2020_summer/\">EDward Gaming vs. FunPlus Phoenix / LPL 2020 Summer - Week 8 / Post-Match Discussion</a>,\n",
       " <a class=\"search-title may-blank\" href=\"https://old.reddit.com/r/leagueoflegends/comments/hvhetx/lpl_meta_ashe_the_new_op_champion_in_the_lpl/\">LPL Meta: Ashe the new OP champion in the LPL</a>,\n",
       " <a class=\"search-title may-blank\" href=\"https://old.reddit.com/r/leagueoflegends/comments/htgndw/invictus_gaming_vs_royal_never_give_up_lpl_2020/\">Invictus Gaming vs Royal Never Give Up / LPL 2020 Summer - Week 7 / Postmatch Discussion</a>,\n",
       " <a class=\"search-title may-blank\" href=\"https://old.reddit.com/r/leagueoflegends/comments/hs7bn0/lng_esports_vs_invictus_gaming_lpl_2020_summer/\">LNG Esports vs. Invictus Gaming / LPL 2020 Summer - Week 7 / Post-Match Discussion</a>,\n",
       " <a class=\"search-title may-blank\" href=\"https://old.reddit.com/r/leagueoflegends/comments/hx01f9/victory_five_vs_suning_lpl_2020_summer_week_8/\">Victory Five vs. Suning / LPL 2020 Summer - Week 8 / Post-Match Discussion</a>,\n",
       " <a class=\"search-title may-blank\" href=\"https://old.reddit.com/r/leagueoflegends/comments/hd75d9/invictus_gaming_vs_edward_gaming_lpl_2020_summer/\">Invictus Gaming vs. EDward Gaming / LPL 2020 Summer - Week 3 / Post-Match Discussion</a>,\n",
       " <a class=\"search-title may-blank\" href=\"https://old.reddit.com/r/leagueoflegends/comments/hoq2k9/invictus_gaming_vs_estar_lpl_2020_summer_week_6/\">Invictus Gaming vs. eStar / LPL 2020 Summer - Week 6 / Post-Match Discussion</a>,\n",
       " <a class=\"search-title may-blank\" href=\"https://old.reddit.com/r/leagueoflegends/comments/hlmjys/royal_never_give_up_vs_funplus_phoenix_lpl_2020/\">Royal Never Give Up vs. FunPlus Phoenix / LPL 2020 Summer - Week 5 / Post-Match Discussion</a>,\n",
       " <a class=\"search-title may-blank\" href=\"https://old.reddit.com/r/leagueoflegends/comments/gueg9l/rng_has_just_officially_announced_their_lpl/\">RNG has just officially announced their LPL summer split lineup, Uzi not involved</a>]"
      ]
     },
     "execution_count": 25,
     "metadata": {},
     "output_type": "execute_result"
    }
   ],
   "source": [
    "##searches = soup.find_all(\"div\", class_=\"search-result\")\n",
    "searches= soup.select('.search-title')\n",
    "searches"
   ]
  },
  {
   "cell_type": "code",
   "execution_count": 29,
   "metadata": {},
   "outputs": [],
   "source": [
    "post_urls=[]\n",
    "for search in searches:\n",
    "    post_urls.append(search['href'])"
   ]
  },
  {
   "cell_type": "code",
   "execution_count": 33,
   "metadata": {},
   "outputs": [
    {
     "data": {
      "text/plain": [
       "'https://old.reddit.com/r/leagueoflegends/comments/hy6g92/top_esports_vs_invictus_gaming_lpl_2020_summer/'"
      ]
     },
     "execution_count": 33,
     "metadata": {},
     "output_type": "execute_result"
    }
   ],
   "source": [
    "url=post_urls[0]\n",
    "url"
   ]
  },
  {
   "cell_type": "code",
   "execution_count": 31,
   "metadata": {},
   "outputs": [],
   "source": [
    "page = requests.get(url, headers=headers)"
   ]
  },
  {
   "cell_type": "code",
   "execution_count": 38,
   "metadata": {},
   "outputs": [
    {
     "data": {
      "text/plain": [
       "1"
      ]
     },
     "execution_count": 38,
     "metadata": {},
     "output_type": "execute_result"
    }
   ],
   "source": [
    "soup = BeautifulSoup(page.text, 'html.parser')\n",
    "comments = soup.select('.commentarea')\n",
    "len(comments)"
   ]
  },
  {
   "cell_type": "code",
   "execution_count": 59,
   "metadata": {},
   "outputs": [],
   "source": [
    "string=comments[0].text\n",
    "teams=[' BLG',' DMO',' EDG',' ES',' FPX',' IG',' JDG',' LGD',' LNG',' OMG',' RW',' RNG',' SN',' WE',' TES',' VG',' V5']\n",
    "fdict={}"
   ]
  },
  {
   "cell_type": "code",
   "execution_count": 60,
   "metadata": {},
   "outputs": [],
   "source": [
    "for team in teams:\n",
    "    count=string.upper().count(team)\n",
    "    if team.strip() not in fdict:\n",
    "        fdict[team.strip()]=count\n",
    "    else:\n",
    "        fdict[team.strip()]+=count"
   ]
  },
  {
   "cell_type": "code",
   "execution_count": 61,
   "metadata": {},
   "outputs": [
    {
     "data": {
      "text/plain": [
       "{'BLG': 0,\n",
       " 'DMO': 0,\n",
       " 'EDG': 0,\n",
       " 'ES': 3,\n",
       " 'FPX': 1,\n",
       " 'IG': 28,\n",
       " 'JDG': 3,\n",
       " 'LGD': 0,\n",
       " 'LNG': 0,\n",
       " 'OMG': 0,\n",
       " 'RW': 0,\n",
       " 'RNG': 2,\n",
       " 'SN': 1,\n",
       " 'WE': 32,\n",
       " 'TES': 11,\n",
       " 'VG': 0,\n",
       " 'V5': 0}"
      ]
     },
     "execution_count": 61,
     "metadata": {},
     "output_type": "execute_result"
    }
   ],
   "source": [
    "fdict"
   ]
  },
  {
   "cell_type": "code",
   "execution_count": null,
   "metadata": {},
   "outputs": [],
   "source": []
  }
 ],
 "metadata": {
  "kernelspec": {
   "display_name": "Python 3",
   "language": "python",
   "name": "python3"
  },
  "language_info": {
   "codemirror_mode": {
    "name": "ipython",
    "version": 3
   },
   "file_extension": ".py",
   "mimetype": "text/x-python",
   "name": "python",
   "nbconvert_exporter": "python",
   "pygments_lexer": "ipython3",
   "version": "3.7.4"
  }
 },
 "nbformat": 4,
 "nbformat_minor": 2
}
