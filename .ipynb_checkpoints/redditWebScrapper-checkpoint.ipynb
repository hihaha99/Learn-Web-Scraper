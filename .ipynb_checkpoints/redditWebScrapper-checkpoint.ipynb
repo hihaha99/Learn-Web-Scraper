{
 "cells": [
  {
   "cell_type": "code",
   "execution_count": 1,
   "metadata": {},
   "outputs": [],
   "source": [
    "import requests\n",
    "import csv\n",
    "import time\n",
    "import sys\n",
    "import csv\n",
    "import seaborn as sb\n",
    "import pandas as pd\n",
    "import matplotlib.pyplot as plt\n",
    "from bs4 import BeautifulSoup\n",
    "sb.set()"
   ]
  },
  {
   "cell_type": "code",
   "execution_count": 2,
   "metadata": {},
   "outputs": [],
   "source": [
    "url = \"https://old.reddit.com/r/leagueoflegends/search?q=lpl&restrict_sr=on&include_over_18=on\"\n",
    "# Headers to mimic a browser visit\n",
    "headers = {'User-Agent': 'Mozilla/5.0'}\n",
    "\n",
    "# Returns a requests.models.Response object\n",
    "page = requests.get(url, headers=headers)"
   ]
  },
  {
   "cell_type": "code",
   "execution_count": 3,
   "metadata": {},
   "outputs": [],
   "source": [
    "## parse beginning page\n",
    "soup = BeautifulSoup(page.text, 'html.parser')"
   ]
  },
  {
   "cell_type": "code",
   "execution_count": 4,
   "metadata": {},
   "outputs": [],
   "source": [
    "## declare team list and fdict to hold the calculation result\n",
    "teams=[' BLG',' DMO',' EDG',' ES',' FPX',' IG',' JDG',' LGD',' LNG',' OMG',' RW',' RNG',' SN',' WE',' TES',' VG',' V5']\n",
    "fdict={}"
   ]
  },
  {
   "cell_type": "code",
   "execution_count": 5,
   "metadata": {},
   "outputs": [],
   "source": [
    "## function to go over posts in one page of search result\n",
    "def search_posts(soup,teams,fdict):\n",
    "    searches= soup.select('.search-title')\n",
    "    post_urls=[]\n",
    "    for search in searches:\n",
    "        post_urls.append(search['href'])\n",
    "    ucount=0\n",
    "    for url in post_urls: \n",
    "        page = requests.get(url, headers=headers)\n",
    "        soup = BeautifulSoup(page.text, 'html.parser')\n",
    "        comments = soup.select('.commentarea')\n",
    "        string=comments[0].text\n",
    "        for team in teams:\n",
    "            count=string.upper().count(team)\n",
    "            if team.strip() not in fdict:\n",
    "                fdict[team.strip()]=count\n",
    "            else:\n",
    "                fdict[team.strip()]+=count\n",
    "    ucount+=1\n",
    "    ##sys.stdout.write(\"\\r{0}%\".format((float(ucount)/len(post_urls))*100))\n",
    "    ##sys.stdout.flush()       \n",
    "    time.sleep(10)"
   ]
  },
  {
   "cell_type": "code",
   "execution_count": 6,
   "metadata": {},
   "outputs": [
    {
     "name": "stdout",
     "output_type": "stream",
     "text": [
      "https://old.reddit.com/r/leagueoflegends/search?q=lpl&restrict_sr=on&include_over_18=on&count=25&after=t3_htgndw\n",
      "{'BLG': 8, 'DMO': 28, 'EDG': 65, 'ES': 108, 'FPX': 279, 'IG': 446, 'JDG': 128, 'LGD': 45, 'LNG': 3, 'OMG': 34, 'RW': 32, 'RNG': 99, 'SN': 55, 'WE': 1029, 'TES': 265, 'VG': 30, 'V5': 163}\n",
      "https://old.reddit.com/r/leagueoflegends/search?q=lpl&restrict_sr=on&include_over_18=on&count=50&after=t3_hyqlk1\n",
      "{'BLG': 18, 'DMO': 45, 'EDG': 194, 'ES': 208, 'FPX': 432, 'IG': 789, 'JDG': 258, 'LGD': 127, 'LNG': 27, 'OMG': 93, 'RW': 45, 'RNG': 246, 'SN': 138, 'WE': 1772, 'TES': 445, 'VG': 36, 'V5': 280}\n",
      "https://old.reddit.com/r/leagueoflegends/search?q=lpl&restrict_sr=on&include_over_18=on&count=75&after=t3_hx2hv1\n",
      "{'BLG': 39, 'DMO': 53, 'EDG': 251, 'ES': 280, 'FPX': 549, 'IG': 1023, 'JDG': 329, 'LGD': 174, 'LNG': 40, 'OMG': 100, 'RW': 55, 'RNG': 338, 'SN': 158, 'WE': 2372, 'TES': 545, 'VG': 53, 'V5': 310}\n",
      "https://old.reddit.com/r/leagueoflegends/search?q=lpl&restrict_sr=on&include_over_18=on&count=100&after=t3_h7ik62\n",
      "{'BLG': 61, 'DMO': 65, 'EDG': 285, 'ES': 358, 'FPX': 700, 'IG': 1270, 'JDG': 395, 'LGD': 211, 'LNG': 79, 'OMG': 115, 'RW': 74, 'RNG': 463, 'SN': 199, 'WE': 2943, 'TES': 597, 'VG': 75, 'V5': 362}\n",
      "https://old.reddit.com/r/leagueoflegends/search?q=lpl&restrict_sr=on&include_over_18=on&count=125&after=t3_grepqq\n",
      "{'BLG': 100, 'DMO': 76, 'EDG': 348, 'ES': 420, 'FPX': 765, 'IG': 1374, 'JDG': 459, 'LGD': 252, 'LNG': 89, 'OMG': 134, 'RW': 90, 'RNG': 518, 'SN': 224, 'WE': 3337, 'TES': 706, 'VG': 96, 'V5': 407}\n"
     ]
    }
   ],
   "source": [
    "##loop for five page of search result\n",
    "for i in range(5):\n",
    "    next_page=soup.find('a', { 'rel': \"nofollow next\"}) ##access next page url\n",
    "    print(next_page['href'])\n",
    "    next_url=next_page['href']\n",
    "    search_posts(soup,teams,fdict)\n",
    "    print(fdict)\n",
    "    page = requests.get(next_url, headers=headers) ## access next page after going through current page\n",
    "    soup = BeautifulSoup(page.text, 'html.parser') ##parse the page as usual"
   ]
  },
  {
   "cell_type": "code",
   "execution_count": 7,
   "metadata": {},
   "outputs": [
    {
     "data": {
      "text/plain": [
       "{'BLG': 100,\n",
       " 'DMO': 76,\n",
       " 'EDG': 348,\n",
       " 'ES': 420,\n",
       " 'FPX': 765,\n",
       " 'IG': 1374,\n",
       " 'JDG': 459,\n",
       " 'LGD': 252,\n",
       " 'LNG': 89,\n",
       " 'OMG': 134,\n",
       " 'RW': 90,\n",
       " 'RNG': 518,\n",
       " 'SN': 224,\n",
       " 'WE': 3337,\n",
       " 'TES': 706,\n",
       " 'VG': 96,\n",
       " 'V5': 407}"
      ]
     },
     "execution_count": 7,
     "metadata": {},
     "output_type": "execute_result"
    }
   ],
   "source": [
    "fdict"
   ]
  },
  {
   "cell_type": "code",
   "execution_count": 8,
   "metadata": {},
   "outputs": [],
   "source": [
    "with open('result.csv', mode='w',newline='') as csv_file:\n",
    "    fieldnames = ['teams','frequency']\n",
    "    writer = csv.writer(csv_file)\n",
    "    writer.writerow(fieldnames)\n",
    "    for team in fdict:\n",
    "        ##print(team,fdict[team])\n",
    "        writer.writerow([team,fdict[team]])"
   ]
  },
  {
   "cell_type": "code",
   "execution_count": 9,
   "metadata": {},
   "outputs": [],
   "source": [
    "data = pd.read_csv(\"result.csv\")"
   ]
  },
  {
   "cell_type": "code",
   "execution_count": 10,
   "metadata": {},
   "outputs": [
    {
     "data": {
      "text/html": [
       "<div>\n",
       "<style scoped>\n",
       "    .dataframe tbody tr th:only-of-type {\n",
       "        vertical-align: middle;\n",
       "    }\n",
       "\n",
       "    .dataframe tbody tr th {\n",
       "        vertical-align: top;\n",
       "    }\n",
       "\n",
       "    .dataframe thead th {\n",
       "        text-align: right;\n",
       "    }\n",
       "</style>\n",
       "<table border=\"1\" class=\"dataframe\">\n",
       "  <thead>\n",
       "    <tr style=\"text-align: right;\">\n",
       "      <th></th>\n",
       "      <th>teams</th>\n",
       "      <th>frequency</th>\n",
       "    </tr>\n",
       "  </thead>\n",
       "  <tbody>\n",
       "    <tr>\n",
       "      <td>0</td>\n",
       "      <td>BLG</td>\n",
       "      <td>100</td>\n",
       "    </tr>\n",
       "    <tr>\n",
       "      <td>1</td>\n",
       "      <td>DMO</td>\n",
       "      <td>76</td>\n",
       "    </tr>\n",
       "    <tr>\n",
       "      <td>2</td>\n",
       "      <td>EDG</td>\n",
       "      <td>348</td>\n",
       "    </tr>\n",
       "    <tr>\n",
       "      <td>3</td>\n",
       "      <td>ES</td>\n",
       "      <td>420</td>\n",
       "    </tr>\n",
       "    <tr>\n",
       "      <td>4</td>\n",
       "      <td>FPX</td>\n",
       "      <td>765</td>\n",
       "    </tr>\n",
       "  </tbody>\n",
       "</table>\n",
       "</div>"
      ],
      "text/plain": [
       "  teams  frequency\n",
       "0   BLG        100\n",
       "1   DMO         76\n",
       "2   EDG        348\n",
       "3    ES        420\n",
       "4   FPX        765"
      ]
     },
     "execution_count": 10,
     "metadata": {},
     "output_type": "execute_result"
    }
   ],
   "source": [
    "data.head()"
   ]
  },
  {
   "cell_type": "code",
   "execution_count": 11,
   "metadata": {},
   "outputs": [
    {
     "data": {
      "image/png": "[encoded data removed]",
      "text/plain": [
       "<Figure size 432x288 with 1 Axes>"
      ]
     },
     "metadata": {
      "needs_background": "light"
     },
     "output_type": "display_data"
    }
   ],
   "source": [
    "data.sort_values(\"frequency\",ascending=\"False\").plot(kind=\"bar\",x=\"teams\",y=\"frequency\")\n",
    "plt.show()"
   ]
  },
  {
   "cell_type": "code",
   "execution_count": null,
   "metadata": {},
   "outputs": [],
   "source": []
  }
 ],
 "metadata": {
  "kernelspec": {
   "display_name": "Python 3",
   "language": "python",
   "name": "python3"
  },
  "language_info": {
   "codemirror_mode": {
    "name": "ipython",
    "version": 3
   },
   "file_extension": ".py",
   "mimetype": "text/x-python",
   "name": "python",
   "nbconvert_exporter": "python",
   "pygments_lexer": "ipython3",
   "version": "3.7.4"
  }
 },
 "nbformat": 4,
 "nbformat_minor": 2
}
