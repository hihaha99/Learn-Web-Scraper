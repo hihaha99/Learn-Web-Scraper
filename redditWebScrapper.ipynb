{
 "cells": [
  {
   "cell_type": "code",
   "execution_count": 1,
   "metadata": {},
   "outputs": [],
   "source": [
    "import requests\n",
    "import csv\n",
    "import time\n",
    "import sys\n",
    "import csv\n",
    "from bs4 import BeautifulSoup"
   ]
  },
  {
   "cell_type": "code",
   "execution_count": 2,
   "metadata": {},
   "outputs": [],
   "source": [
    "url = \"https://old.reddit.com/r/leagueoflegends/search?q=lpl&restrict_sr=on&include_over_18=on\"\n",
    "# Headers to mimic a browser visit\n",
    "headers = {'User-Agent': 'Mozilla/5.0'}\n",
    "\n",
    "# Returns a requests.models.Response object\n",
    "page = requests.get(url, headers=headers)"
   ]
  },
  {
   "cell_type": "code",
   "execution_count": 3,
   "metadata": {},
   "outputs": [],
   "source": [
    "soup = BeautifulSoup(page.text, 'html.parser')"
   ]
  },
  {
   "cell_type": "code",
   "execution_count": 4,
   "metadata": {},
   "outputs": [],
   "source": [
    "##searches = soup.find_all(\"div\", class_=\"search-result\")\n",
    "searches= soup.select('.search-title')"
   ]
  },
  {
   "cell_type": "code",
   "execution_count": 5,
   "metadata": {},
   "outputs": [],
   "source": [
    "post_urls=[]\n",
    "for search in searches:\n",
    "    post_urls.append(search['href'])"
   ]
  },
  {
   "cell_type": "code",
   "execution_count": 6,
   "metadata": {},
   "outputs": [
    {
     "data": {
      "text/plain": [
       "25"
      ]
     },
     "execution_count": 6,
     "metadata": {},
     "output_type": "execute_result"
    }
   ],
   "source": [
    "teams=[' BLG',' DMO',' EDG',' ES',' FPX',' IG',' JDG',' LGD',' LNG',' OMG',' RW',' RNG',' SN',' WE',' TES',' VG',' V5']\n",
    "fdict={}\n",
    "len(post_urls)"
   ]
  },
  {
   "cell_type": "code",
   "execution_count": 7,
   "metadata": {},
   "outputs": [
    {
     "name": "stdout",
     "output_type": "stream",
     "text": [
      "100.0%00000000001%%"
     ]
    }
   ],
   "source": [
    "ucount=0\n",
    "for url in post_urls: \n",
    "    page = requests.get(url, headers=headers)\n",
    "    soup = BeautifulSoup(page.text, 'html.parser')\n",
    "    comments = soup.select('.commentarea')\n",
    "    string=comments[0].text\n",
    "    for team in teams:\n",
    "        count=string.upper().count(team)\n",
    "        if team.strip() not in fdict:\n",
    "            fdict[team.strip()]=count\n",
    "        else:\n",
    "            fdict[team.strip()]+=count\n",
    "    ucount+=1\n",
    "    sys.stdout.write(\"\\r{0}%\".format((float(ucount)/len(post_urls))*100))\n",
    "    sys.stdout.flush()       \n",
    "    time.sleep(10)"
   ]
  },
  {
   "cell_type": "code",
   "execution_count": 8,
   "metadata": {},
   "outputs": [
    {
     "data": {
      "text/plain": [
       "{'BLG': 6,\n",
       " 'DMO': 13,\n",
       " 'EDG': 72,\n",
       " 'ES': 96,\n",
       " 'FPX': 259,\n",
       " 'IG': 407,\n",
       " 'JDG': 85,\n",
       " 'LGD': 37,\n",
       " 'LNG': 10,\n",
       " 'OMG': 27,\n",
       " 'RW': 35,\n",
       " 'RNG': 84,\n",
       " 'SN': 57,\n",
       " 'WE': 916,\n",
       " 'TES': 215,\n",
       " 'VG': 24,\n",
       " 'V5': 117}"
      ]
     },
     "execution_count": 8,
     "metadata": {},
     "output_type": "execute_result"
    }
   ],
   "source": [
    "fdict"
   ]
  },
  {
   "cell_type": "code",
   "execution_count": 16,
   "metadata": {},
   "outputs": [],
   "source": [
    "with open('result.csv', mode='w',newline='') as csv_file:\n",
    "    fieldnames = ['teams','frequency']\n",
    "    writer = csv.writer(csv_file)\n",
    "    writer.writerow(fieldnames)\n",
    "    for team in fdict:\n",
    "        ##print(team,fdict[team])\n",
    "        writer.writerow([team,fdict[team]])"
   ]
  },
  {
   "cell_type": "code",
   "execution_count": 60,
   "metadata": {},
   "outputs": [],
   "source": []
  },
  {
   "cell_type": "code",
   "execution_count": 61,
   "metadata": {},
   "outputs": [
    {
     "data": {
      "text/plain": [
       "{'BLG': 0,\n",
       " 'DMO': 0,\n",
       " 'EDG': 0,\n",
       " 'ES': 3,\n",
       " 'FPX': 1,\n",
       " 'IG': 28,\n",
       " 'JDG': 3,\n",
       " 'LGD': 0,\n",
       " 'LNG': 0,\n",
       " 'OMG': 0,\n",
       " 'RW': 0,\n",
       " 'RNG': 2,\n",
       " 'SN': 1,\n",
       " 'WE': 32,\n",
       " 'TES': 11,\n",
       " 'VG': 0,\n",
       " 'V5': 0}"
      ]
     },
     "execution_count": 61,
     "metadata": {},
     "output_type": "execute_result"
    }
   ],
   "source": []
  },
  {
   "cell_type": "code",
   "execution_count": null,
   "metadata": {},
   "outputs": [],
   "source": []
  }
 ],
 "metadata": {
  "kernelspec": {
   "display_name": "Python 3",
   "language": "python",
   "name": "python3"
  },
  "language_info": {
   "codemirror_mode": {
    "name": "ipython",
    "version": 3
   },
   "file_extension": ".py",
   "mimetype": "text/x-python",
   "name": "python",
   "nbconvert_exporter": "python",
   "pygments_lexer": "ipython3",
   "version": "3.7.4"
  }
 },
 "nbformat": 4,
 "nbformat_minor": 2
}
