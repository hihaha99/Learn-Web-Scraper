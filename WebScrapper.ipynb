{
 "cells": [
  {
   "cell_type": "code",
   "execution_count": 2,
   "metadata": {},
   "outputs": [],
   "source": [
    "import requests\n",
    "import csv\n",
    "import time\n",
    "from bs4 import BeautifulSoup"
   ]
  },
  {
   "cell_type": "code",
   "execution_count": 3,
   "metadata": {},
   "outputs": [],
   "source": [
    "url = \"https://old.reddit.com/r/datascience/\"\n",
    "# Headers to mimic a browser visit\n",
    "headers = {'User-Agent': 'Mozilla/5.0'}\n",
    "\n",
    "# Returns a requests.models.Response object\n",
    "page = requests.get(url, headers=headers)"
   ]
  },
  {
   "cell_type": "code",
   "execution_count": 4,
   "metadata": {},
   "outputs": [
    {
     "data": {
      "text/plain": [
       "<Response [200]>"
      ]
     },
     "execution_count": 4,
     "metadata": {},
     "output_type": "execute_result"
    }
   ],
   "source": [
    "page"
   ]
  },
  {
   "cell_type": "code",
   "execution_count": 5,
   "metadata": {},
   "outputs": [],
   "source": [
    "soup = BeautifulSoup(page.text, 'html.parser')"
   ]
  },
  {
   "cell_type": "code",
   "execution_count": 30,
   "metadata": {},
   "outputs": [
    {
     "name": "stdout",
     "output_type": "stream",
     "text": [
      "Pretty printing has been turned OFF\n"
     ]
    }
   ],
   "source": [
    "pprint(soup)"
   ]
  },
  {
   "cell_type": "code",
   "execution_count": 20,
   "metadata": {},
   "outputs": [],
   "source": [
    "domains = soup.find_all(\"span\", class_=\"domain\")"
   ]
  },
  {
   "cell_type": "code",
   "execution_count": 21,
   "metadata": {},
   "outputs": [
    {
     "data": {
      "text/plain": [
       "[<span class=\"domain\">(<a href=\"/r/datascience/\">self.datascience</a>)</span>,\n",
       " <span class=\"domain\">(<a href=\"/domain/zdnet.com/\">zdnet.com</a>)</span>,\n",
       " <span class=\"domain\">(neptune.ai)</span>,\n",
       " <span class=\"domain\">(<a href=\"/r/datascience/\">self.datascience</a>)</span>,\n",
       " <span class=\"domain\">(<a href=\"/r/datascience/\">self.datascience</a>)</span>,\n",
       " <span class=\"domain\">(<a href=\"/r/datascience/\">self.datascience</a>)</span>,\n",
       " <span class=\"domain\">(<a href=\"/r/datascience/\">self.datascience</a>)</span>,\n",
       " <span class=\"domain\">(<a href=\"/r/datascience/\">self.datascience</a>)</span>,\n",
       " <span class=\"domain\">(<a href=\"/r/datascience/\">self.datascience</a>)</span>,\n",
       " <span class=\"domain\">(<a href=\"/r/datascience/\">self.datascience</a>)</span>,\n",
       " <span class=\"domain\">(<a href=\"/r/datascience/\">self.datascience</a>)</span>,\n",
       " <span class=\"domain\">(<a href=\"/r/datascience/\">self.datascience</a>)</span>,\n",
       " <span class=\"domain\">(<a href=\"/r/datascience/\">self.datascience</a>)</span>,\n",
       " <span class=\"domain\">(<a href=\"/r/datascience/\">self.datascience</a>)</span>,\n",
       " <span class=\"domain\">(<a href=\"/r/datascience/\">self.datascience</a>)</span>,\n",
       " <span class=\"domain\">(<a href=\"/r/datascience/\">self.datascience</a>)</span>,\n",
       " <span class=\"domain\">(datadoghq.com)</span>,\n",
       " <span class=\"domain\">(<a href=\"/r/datascience/\">self.datascience</a>)</span>,\n",
       " <span class=\"domain\">(<a href=\"/r/datascience/\">self.datascience</a>)</span>,\n",
       " <span class=\"domain\">(<a href=\"/r/datascience/\">self.datascience</a>)</span>,\n",
       " <span class=\"domain\">(<a href=\"/r/datascience/\">self.datascience</a>)</span>,\n",
       " <span class=\"domain\">(<a href=\"/r/datascience/\">self.datascience</a>)</span>,\n",
       " <span class=\"domain\">(<a href=\"/r/datascience/\">self.datascience</a>)</span>,\n",
       " <span class=\"domain\">(<a href=\"/r/datascience/\">self.datascience</a>)</span>,\n",
       " <span class=\"domain\">(<a href=\"/r/datascience/\">self.datascience</a>)</span>,\n",
       " <span class=\"domain\">(<a href=\"/r/datascience/\">self.datascience</a>)</span>,\n",
       " <span class=\"domain\">(<a href=\"/r/datascience/\">self.datascience</a>)</span>,\n",
       " <span class=\"domain\">(<a href=\"/r/datascience/\">self.datascience</a>)</span>]"
      ]
     },
     "execution_count": 21,
     "metadata": {},
     "output_type": "execute_result"
    }
   ],
   "source": [
    "domains"
   ]
  },
  {
   "cell_type": "code",
   "execution_count": 34,
   "metadata": {},
   "outputs": [
    {
     "name": "stdout",
     "output_type": "stream",
     "text": [
      "(self.datascience)\n",
      "(self.datascience)\n",
      "(self.datascience)\n",
      "(self.datascience)\n",
      "(self.datascience)\n",
      "(self.datascience)\n",
      "(self.datascience)\n",
      "(self.datascience)\n",
      "(self.datascience)\n",
      "(self.datascience)\n",
      "(self.datascience)\n",
      "(self.datascience)\n",
      "(self.datascience)\n",
      "(self.datascience)\n",
      "(self.datascience)\n",
      "(self.datascience)\n",
      "(self.datascience)\n",
      "(self.datascience)\n",
      "(self.datascience)\n",
      "(self.datascience)\n",
      "(self.datascience)\n",
      "(self.datascience)\n",
      "(self.datascience)\n",
      "(self.datascience)\n",
      "(self.datascience)\n"
     ]
    }
   ],
   "source": [
    "for domain in domains:\n",
    "    if \"self.datascience\" in domain.text:\n",
    "        print(domain.text)"
   ]
  },
  {
   "cell_type": "code",
   "execution_count": 35,
   "metadata": {},
   "outputs": [
    {
     "name": "stdout",
     "output_type": "stream",
     "text": [
      "self.datascience\n",
      "self.datascience\n",
      "self.datascience\n",
      "self.datascience\n",
      "self.datascience\n",
      "self.datascience\n",
      "self.datascience\n",
      "self.datascience\n",
      "self.datascience\n",
      "self.datascience\n",
      "self.datascience\n",
      "self.datascience\n",
      "self.datascience\n",
      "self.datascience\n",
      "self.datascience\n",
      "self.datascience\n",
      "self.datascience\n",
      "self.datascience\n",
      "self.datascience\n",
      "self.datascience\n",
      "self.datascience\n",
      "self.datascience\n",
      "self.datascience\n",
      "self.datascience\n",
      "self.datascience\n"
     ]
    }
   ],
   "source": [
    "attrs = {'class': 'thing', 'data-domain': 'self.datascience'}\n",
    "\n",
    "for post in soup.find_all('div', attrs=attrs):\n",
    "    print(post.attrs['data-domain'])"
   ]
  },
  {
   "cell_type": "code",
   "execution_count": null,
   "metadata": {},
   "outputs": [],
   "source": []
  }
 ],
 "metadata": {
  "kernelspec": {
   "display_name": "Python 3",
   "language": "python",
   "name": "python3"
  },
  "language_info": {
   "codemirror_mode": {
    "name": "ipython",
    "version": 3
   },
   "file_extension": ".py",
   "mimetype": "text/x-python",
   "name": "python",
   "nbconvert_exporter": "python",
   "pygments_lexer": "ipython3",
   "version": "3.7.4"
  }
 },
 "nbformat": 4,
 "nbformat_minor": 2
}
